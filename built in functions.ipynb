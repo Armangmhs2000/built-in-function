{
 "cells": [
  {
   "cell_type": "code",
   "execution_count": 1,
   "id": "f588ebd5-8975-4a06-a271-6348a330e5db",
   "metadata": {},
   "outputs": [
    {
     "name": "stdout",
     "output_type": "stream",
     "text": [
      "My name is Arman Hossen\n"
     ]
    }
   ],
   "source": [
    "print('My name is Arman Hossen')"
   ]
  },
  {
   "cell_type": "code",
   "execution_count": 2,
   "id": "de9ddc0b-ade5-43ba-90f9-5f61e94758ce",
   "metadata": {},
   "outputs": [
    {
     "data": {
      "text/plain": [
       "3"
      ]
     },
     "execution_count": 2,
     "metadata": {},
     "output_type": "execute_result"
    }
   ],
   "source": [
    "n=[1,2,3]\n",
    "len(n)"
   ]
  },
  {
   "cell_type": "code",
   "execution_count": 3,
   "id": "69216bc5-28c3-4894-a9eb-b06def5db60f",
   "metadata": {},
   "outputs": [
    {
     "name": "stdin",
     "output_type": "stream",
     "text": [
      "enter the age:  twenty five\n"
     ]
    }
   ],
   "source": [
    "age=input('enter the age: ')"
   ]
  },
  {
   "cell_type": "code",
   "execution_count": 4,
   "id": "51f16b7b-a017-4951-949e-bb1288810ac6",
   "metadata": {},
   "outputs": [
    {
     "data": {
      "text/plain": [
       "str"
      ]
     },
     "execution_count": 4,
     "metadata": {},
     "output_type": "execute_result"
    }
   ],
   "source": [
    "type(age)"
   ]
  },
  {
   "cell_type": "code",
   "execution_count": 5,
   "id": "8f072c2d-99c4-469c-a09e-8ff95dc71128",
   "metadata": {},
   "outputs": [],
   "source": [
    "age=25\n",
    "age1=str(age)#to convert integer to string data type"
   ]
  },
  {
   "cell_type": "code",
   "execution_count": 6,
   "id": "f559b43c-7aaa-4c5f-bdd6-db5fc1dccc79",
   "metadata": {},
   "outputs": [
    {
     "data": {
      "text/plain": [
       "'25'"
      ]
     },
     "execution_count": 6,
     "metadata": {},
     "output_type": "execute_result"
    }
   ],
   "source": [
    "age1"
   ]
  },
  {
   "cell_type": "code",
   "execution_count": 7,
   "id": "821e37b6-c0a4-4943-9cf6-0e7c65d3b5a2",
   "metadata": {},
   "outputs": [
    {
     "data": {
      "text/plain": [
       "str"
      ]
     },
     "execution_count": 7,
     "metadata": {},
     "output_type": "execute_result"
    }
   ],
   "source": [
    "type(age1)"
   ]
  },
  {
   "cell_type": "code",
   "execution_count": 8,
   "id": "5d7503f3-78b0-4c09-bc59-98c50837cd2f",
   "metadata": {},
   "outputs": [
    {
     "name": "stdout",
     "output_type": "stream",
     "text": [
      "[1, 2, 3, 4]\n"
     ]
    }
   ],
   "source": [
    "numbers=list(range(1,5))\n",
    "print(numbers)\n",
    "#to create a list form one to four "
   ]
  },
  {
   "cell_type": "code",
   "execution_count": 9,
   "id": "6ec4fc47-f24b-4dec-b5d3-f15f8c2beada",
   "metadata": {},
   "outputs": [
    {
     "data": {
      "text/plain": [
       "10"
      ]
     },
     "execution_count": 9,
     "metadata": {},
     "output_type": "execute_result"
    }
   ],
   "source": [
    "sum(numbers)\n",
    "#to find out the sum of all elements in the list called numbers"
   ]
  },
  {
   "cell_type": "code",
   "execution_count": 10,
   "id": "1ef0aafc-91d6-4c57-9856-6be8cbe4ba48",
   "metadata": {},
   "outputs": [
    {
     "data": {
      "text/plain": [
       "1"
      ]
     },
     "execution_count": 10,
     "metadata": {},
     "output_type": "execute_result"
    }
   ],
   "source": [
    "min(numbers)\n",
    "#to find the minimum value "
   ]
  },
  {
   "cell_type": "code",
   "execution_count": 11,
   "id": "99211621-b877-48cf-ad00-7bc364b1357f",
   "metadata": {},
   "outputs": [
    {
     "data": {
      "text/plain": [
       "4"
      ]
     },
     "execution_count": 11,
     "metadata": {},
     "output_type": "execute_result"
    }
   ],
   "source": [
    "max(numbers)\n",
    "#to find maximum value"
   ]
  },
  {
   "cell_type": "code",
   "execution_count": 12,
   "id": "47cf23fd-deab-4f9e-8821-079173de74b7",
   "metadata": {},
   "outputs": [
    {
     "data": {
      "text/plain": [
       "10"
      ]
     },
     "execution_count": 12,
     "metadata": {},
     "output_type": "execute_result"
    }
   ],
   "source": [
    "abs(-10)\n",
    "#absolute value"
   ]
  },
  {
   "cell_type": "code",
   "execution_count": 13,
   "id": "8013568a-ca3f-4458-b56f-bab04da5c3f1",
   "metadata": {},
   "outputs": [
    {
     "data": {
      "text/plain": [
       "3.14"
      ]
     },
     "execution_count": 13,
     "metadata": {},
     "output_type": "execute_result"
    }
   ],
   "source": [
    "round(3.14156,2)\n",
    "#take two digit after decimal point "
   ]
  },
  {
   "cell_type": "code",
   "execution_count": 14,
   "id": "d0759e06-5f85-4215-b1b1-8f6235f3aaa0",
   "metadata": {},
   "outputs": [
    {
     "data": {
      "text/plain": [
       "5"
      ]
     },
     "execution_count": 14,
     "metadata": {},
     "output_type": "execute_result"
    }
   ],
   "source": [
    "round(4.6)\n",
    "#when the value is higher than 0.5 after decimal point then it will take the upper value"
   ]
  },
  {
   "cell_type": "code",
   "execution_count": 15,
   "id": "3ae2da1b-717e-43d3-8749-809152e74305",
   "metadata": {},
   "outputs": [
    {
     "data": {
      "text/plain": [
       "4"
      ]
     },
     "execution_count": 15,
     "metadata": {},
     "output_type": "execute_result"
    }
   ],
   "source": [
    "round(4.5)"
   ]
  },
  {
   "cell_type": "code",
   "execution_count": 16,
   "id": "1b456e4c-c660-46a4-96e6-aa3a61ad55cc",
   "metadata": {},
   "outputs": [
    {
     "data": {
      "text/plain": [
       "[1, 2, 2, 5, 6, 8, 14]"
      ]
     },
     "execution_count": 16,
     "metadata": {},
     "output_type": "execute_result"
    }
   ],
   "source": [
    "list1=[2,14,5,2,6,8,1]\n",
    "sorted(list1)\n",
    "#to sort from lower elements to higher"
   ]
  },
  {
   "cell_type": "code",
   "execution_count": 17,
   "id": "6de0be6f-03f3-47f5-bdf4-df9e454cf446",
   "metadata": {},
   "outputs": [
    {
     "data": {
      "text/plain": [
       "True"
      ]
     },
     "execution_count": 17,
     "metadata": {},
     "output_type": "execute_result"
    }
   ],
   "source": [
    "#if any elements in an iterable are true\n",
    "list2=[True,False,True]\n",
    "any(list2)\n",
    "#which means there is at least one true value "
   ]
  },
  {
   "cell_type": "code",
   "execution_count": 18,
   "id": "2df1452d-770c-4fb3-9a12-3e15c12128da",
   "metadata": {},
   "outputs": [
    {
     "data": {
      "text/plain": [
       "False"
      ]
     },
     "execution_count": 18,
     "metadata": {},
     "output_type": "execute_result"
    }
   ],
   "source": [
    "all(list2)\n",
    "#is every elements true in list2?"
   ]
  },
  {
   "cell_type": "code",
   "execution_count": 19,
   "id": "6ad6063c-1b18-49ff-a207-d8d0221ab0b0",
   "metadata": {},
   "outputs": [
    {
     "data": {
      "text/plain": [
       "'math, physics, chemistry, biology'"
      ]
     },
     "execution_count": 19,
     "metadata": {},
     "output_type": "execute_result"
    }
   ],
   "source": [
    "list3=[\"math\",\"physics\",\"chemistry\",\"biology\"]\n",
    "joinedstr=\", \".join(list3)\n",
    "joinedstr\n",
    "#to accumulate all elements with seperator as a string "
   ]
  },
  {
   "cell_type": "code",
   "execution_count": 20,
   "id": "eac71fae-06e2-4d26-91cc-314703f650ca",
   "metadata": {},
   "outputs": [
    {
     "data": {
      "text/plain": [
       "'hello,world'"
      ]
     },
     "execution_count": 20,
     "metadata": {},
     "output_type": "execute_result"
    }
   ],
   "source": [
    "string1=\"hello,world\"\n",
    "string1.lower()\n",
    "#to make the all elements in string lower case"
   ]
  },
  {
   "cell_type": "code",
   "execution_count": 21,
   "id": "6635b340-3b02-45b7-96c6-c02a082bdf65",
   "metadata": {},
   "outputs": [
    {
     "data": {
      "text/plain": [
       "'HELLO,WORLD'"
      ]
     },
     "execution_count": 21,
     "metadata": {},
     "output_type": "execute_result"
    }
   ],
   "source": [
    "string1.upper()"
   ]
  },
  {
   "cell_type": "code",
   "execution_count": 22,
   "id": "f92f3ce2-54b2-4658-b2f8-fdf2bb26ad33",
   "metadata": {},
   "outputs": [],
   "source": [
    "tuple1=(1,2,3,5)\n",
    "list4=list(tuple1)\n",
    "#to convert data type form tuple to list "
   ]
  },
  {
   "cell_type": "code",
   "execution_count": 23,
   "id": "44d10153-3324-4628-95e5-cad2d33eb32d",
   "metadata": {},
   "outputs": [
    {
     "data": {
      "text/plain": [
       "[1, 2, 3, 5]"
      ]
     },
     "execution_count": 23,
     "metadata": {},
     "output_type": "execute_result"
    }
   ],
   "source": [
    "list4"
   ]
  },
  {
   "cell_type": "code",
   "execution_count": 24,
   "id": "1d2d5b9b-fa8f-49d1-b482-5215e7f89cd5",
   "metadata": {},
   "outputs": [
    {
     "data": {
      "text/plain": [
       "{'name': 'arman', 'age': 25}"
      ]
     },
     "execution_count": 24,
     "metadata": {},
     "output_type": "execute_result"
    }
   ],
   "source": [
    "dict2=dict(name=\"arman\",age=25)\n",
    "dict2\n",
    "#create a dictionary"
   ]
  },
  {
   "cell_type": "code",
   "execution_count": 25,
   "id": "7247edc9-1f74-41de-8d40-ea6cef5e02a4",
   "metadata": {},
   "outputs": [
    {
     "data": {
      "text/plain": [
       "{1, 2, 3, 4, 5}"
      ]
     },
     "execution_count": 25,
     "metadata": {},
     "output_type": "execute_result"
    }
   ],
   "source": [
    "set1=set([1,2,3,4,5])\n",
    "set1\n",
    "#to create a set"
   ]
  },
  {
   "cell_type": "code",
   "execution_count": 26,
   "id": "da882fcf-7881-4215-a942-5af0e9dd6a74",
   "metadata": {},
   "outputs": [
    {
     "name": "stdout",
     "output_type": "stream",
     "text": [
      "0 a\n",
      "1 b\n",
      "2 c\n"
     ]
    }
   ],
   "source": [
    "#returns tuples with coresponding index and elements\n",
    "list5=[\"a\",\"b\",\"c\"]\n",
    "for index,value in enumerate(list5):\n",
    "    print(index,value)"
   ]
  },
  {
   "cell_type": "code",
   "execution_count": 27,
   "id": "26937bd3-3991-4a59-bbd9-220b6ad5fe76",
   "metadata": {},
   "outputs": [
    {
     "data": {
      "text/plain": [
       "[6, 5, 4]"
      ]
     },
     "execution_count": 27,
     "metadata": {},
     "output_type": "execute_result"
    }
   ],
   "source": [
    "list6=[4,5,6]\n",
    "list7=list(reversed(list6))\n",
    "list7\n",
    "#to make reverse"
   ]
  },
  {
   "cell_type": "code",
   "execution_count": 28,
   "id": "dec38790-0e59-41fe-9b10-e82a63d06711",
   "metadata": {},
   "outputs": [
    {
     "data": {
      "text/plain": [
       "106"
      ]
     },
     "execution_count": 28,
     "metadata": {},
     "output_type": "execute_result"
    }
   ],
   "source": [
    "#sum with external staarting value\n",
    "list8=[1,2,3]\n",
    "sum(list8,100)\n",
    "#To add 1,2,3 with 100 is equal to 106"
   ]
  },
  {
   "cell_type": "code",
   "execution_count": 29,
   "id": "82c3e258-00b8-4f5e-93ba-2d006420e564",
   "metadata": {},
   "outputs": [
    {
     "data": {
      "text/plain": [
       "5.0"
      ]
     },
     "execution_count": 29,
     "metadata": {},
     "output_type": "execute_result"
    }
   ],
   "source": [
    "#to return the magnitude of complex number \n",
    "complexnum=3+4j\n",
    "magnitude=abs(complexnum)\n",
    "magnitude"
   ]
  },
  {
   "cell_type": "code",
   "execution_count": 30,
   "id": "e6d59728-fd8c-493f-bdd7-4cf43cfafc05",
   "metadata": {},
   "outputs": [
    {
     "data": {
      "text/plain": [
       "[1, 3, 5, 7]"
      ]
     },
     "execution_count": 30,
     "metadata": {},
     "output_type": "execute_result"
    }
   ],
   "source": [
    "list9=[1,3,5,7,9]\n",
    "slice1=slice(0,4)\n",
    "slicedlist=list9[slice1]\n",
    "slicedlist\n",
    "#to see the slice list form 0 index to number 3 index "
   ]
  }
 ],
 "metadata": {
  "kernelspec": {
   "display_name": "Python 3 (ipykernel)",
   "language": "python",
   "name": "python3"
  },
  "language_info": {
   "codemirror_mode": {
    "name": "ipython",
    "version": 3
   },
   "file_extension": ".py",
   "mimetype": "text/x-python",
   "name": "python",
   "nbconvert_exporter": "python",
   "pygments_lexer": "ipython3",
   "version": "3.13.7"
  }
 },
 "nbformat": 4,
 "nbformat_minor": 5
}
